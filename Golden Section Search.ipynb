{
 "cells": [
  {
   "cell_type": "code",
   "execution_count": 3,
   "metadata": {},
   "outputs": [
    {
     "name": "stdout",
     "output_type": "stream",
     "text": [
      "Minimum value of the function:  4.2149363721346456e-14\n",
      "Number of iterations:  31\n"
     ]
    }
   ],
   "source": [
    "import math\n",
    "\n",
    "# Define the function to be minimized\n",
    "def f(x):\n",
    "    return (x-1)**2\n",
    "\n",
    "# Define the golden section ratio\n",
    "phi = (1 + math.sqrt(5)) / 2\n",
    "\n",
    "# Define the initial interval and tolerances\n",
    "a = 0\n",
    "b = 2\n",
    "tolerance = 1e-6\n",
    "\n",
    "# Define the iterations for the Golden-Section Search\n",
    "iter = 0\n",
    "while True:\n",
    "    # Calculate the values of x1 and x2\n",
    "    x1 = b - (b - a) / phi\n",
    "    x2 = a + (b - a) / phi\n",
    "    \n",
    "    # Evaluate the function at x1 and x2\n",
    "    fx1 = f(x1)\n",
    "    fx2 = f(x2)\n",
    "    \n",
    "    # Update the interval and iteration count based on the function values\n",
    "    if fx1 < fx2:\n",
    "        b = x2\n",
    "    else:\n",
    "        a = x1\n",
    "    \n",
    "    iter += 1\n",
    "    \n",
    "    # Check for convergence\n",
    "    if abs(b - a) < tolerance:\n",
    "        break\n",
    "        \n",
    "# Print the minimum value of the function and the number of iterations\n",
    "print(\"Minimum value of the function: \", f((a + b) / 2))\n",
    "print(\"Number of iterations: \", iter)\n",
    "\n"
   ]
  },
  {
   "cell_type": "code",
   "execution_count": null,
   "metadata": {},
   "outputs": [],
   "source": []
  }
 ],
 "metadata": {
  "kernelspec": {
   "display_name": "Python 3",
   "language": "python",
   "name": "python3"
  },
  "language_info": {
   "codemirror_mode": {
    "name": "ipython",
    "version": 3
   },
   "file_extension": ".py",
   "mimetype": "text/x-python",
   "name": "python",
   "nbconvert_exporter": "python",
   "pygments_lexer": "ipython3",
   "version": "3.10.9"
  },
  "orig_nbformat": 4
 },
 "nbformat": 4,
 "nbformat_minor": 2
}
